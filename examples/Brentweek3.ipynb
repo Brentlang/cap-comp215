{
  "nbformat": 4,
  "nbformat_minor": 0,
  "metadata": {
    "colab": {
      "name": "week3.ipynb",
      "provenance": [],
      "include_colab_link": true
    },
    "kernelspec": {
      "name": "python3",
      "display_name": "Python 3"
    },
    "language_info": {
      "name": "python"
    }
  },
  "cells": [
    {
      "cell_type": "markdown",
      "metadata": {
        "id": "view-in-github",
        "colab_type": "text"
      },
      "source": [
        "<a href=\"https://colab.research.google.com/github/Brentlang/cap-comp215/blob/main/examples/Brentweek3.ipynb\" target=\"_parent\"><img src=\"https://colab.research.google.com/assets/colab-badge.svg\" alt=\"Open In Colab\"/></a>"
      ]
    },
    {
      "cell_type": "markdown",
      "source": [
        "# Classes and Objects\n",
        "This is our week 3 examples notebook and will be available on Github from the powderflask/cap-comp215 repository.\n",
        "\n",
        "As usual, the first code block just imports the modules we will use."
      ],
      "metadata": {
        "id": "WBMC0GrjNRTM"
      }
    },
    {
      "cell_type": "code",
      "execution_count": 9,
      "outputs": [
        {
          "output_type": "execute_result",
          "data": {
            "text/plain": [
              "'Exploring'"
            ],
            "application/vnd.google.colaboratory.intrinsic+json": {
              "type": "string"
            }
          },
          "metadata": {},
          "execution_count": 9
        }
      ],
      "source": [
        "import random\n",
        "import matplotlib.pyplot as plt\n",
        "from pprint import pprint\n",
        "import math\n",
        "# Everything in Python is an object and everything has a \"type\" which is its class\n",
        "\n",
        "\n",
        "# Even a function is an object...\n",
        "def sqr(a):\n",
        "  return a**2\n",
        "type(sqr)\n",
        "\n",
        "# ... so we can even define additional \"attributes\" for that object:\n",
        "sqr.skill= \"Exploring\"\n",
        "sqr.skill"
      ],
      "metadata": {
        "pycharm": {
          "name": "#%%\n"
        },
        "id": "Xuhr0Iqrkl7M",
        "outputId": "b62ba4b0-9904-4e6f-8e0d-b8d7731565ea",
        "colab": {
          "base_uri": "https://localhost:8080/",
          "height": 35
        }
      }
    },
    {
      "cell_type": "markdown",
      "source": [
        "## Problem: Collision detection using circles"
      ],
      "metadata": {
        "collapsed": false,
        "id": "9kidyXF4kl7N"
      }
    },
    {
      "cell_type": "code",
      "execution_count": 19,
      "outputs": [
        {
          "output_type": "execute_result",
          "data": {
            "text/plain": [
              "Point2D(x=8, y=18)"
            ]
          },
          "metadata": {},
          "execution_count": 19
        }
      ],
      "source": [
        "from dataclasses import dataclass\n",
        "@dataclass\n",
        "class Point2D:\n",
        "  x:float\n",
        "  y:float\n",
        "\n",
        "  def __eq__(self,other):\n",
        "    return self.x==other.x and self.y==other.y\n",
        "\n",
        "  def __add__(self,other):\n",
        "    return Point2D(self.x+other.x, self.y+other.y)\n",
        "\n",
        "  def distance(self, other):\n",
        "      \"\"\" Return the distance between this circle centre and the other one \"\"\"\n",
        "      return math.sqrt(\n",
        "          (self.x-other.x)**2+\n",
        "          (self.y-other.y)**2\n",
        "      )\n",
        "p1 = Point2D(4,9)\n",
        "p2 = Point2D(4,9)\n",
        "p1.distance(p2)\n",
        "p1+p2\n",
        "# p1==p2"
      ],
      "metadata": {
        "pycharm": {
          "name": "#%%\n"
        },
        "id": "JzVlJnx0kl7O",
        "colab": {
          "base_uri": "https://localhost:8080/"
        },
        "outputId": "4775215f-c648-46d8-d291-46b665bd6d8a"
      }
    },
    {
      "cell_type": "code",
      "execution_count": 20,
      "outputs": [
        {
          "output_type": "execute_result",
          "data": {
            "text/plain": [
              "True"
            ]
          },
          "metadata": {},
          "execution_count": 20
        }
      ],
      "source": [
        "# Test Circle class\n",
        "@dataclass\n",
        "class Circle:\n",
        "  \"\"\" Representation for the data and operations on a circle \"\"\"\n",
        "  radius:float\n",
        "  centre:Point2D\n",
        "  @property\n",
        "  def x(self):\n",
        "    return self.centre.x\n",
        "  @property\n",
        "  def y(self):\n",
        "    return self.centre.y\n",
        "  # def __init_(self, radius, centre):\n",
        "  #   self.radius= radius\n",
        "  #   self.centre = centre\n",
        "\n",
        "  # def __str__(self):\n",
        "  #   return f'Circle({self.radius}, {self.centre})'\n",
        "\n",
        "  # def __repr__(self):\n",
        "  #   return str(self)\n",
        "  \n",
        "  def area(self):\n",
        "      \"\"\" Return the area of this circle \"\"\"\n",
        "      return math.pi * self.radius**2\n",
        "      # accessor, pure function, immutable, testable\n",
        "\n",
        "  def move(self, offset):\n",
        "      \"\"\" Move this circle by given Point2D offset \"\"\"\n",
        "      self.centre = self.centre + offset\n",
        "      # mutator, modifies circle object, mutable\n",
        "  def distance(self, other):\n",
        "      \"\"\" Return the distance between this circle centre and the other one \"\"\"\n",
        "      return math.sqrt(\n",
        "          (self.x-other.x)**2+\n",
        "          (self.y-other.y)**2\n",
        "      )\n",
        "  def intersects(self, other):\n",
        "      \"\"\" Return True iff this circle intersects the other one \"\"\"\n",
        "      return self.radius+other.radius >= self.distance(other)\n",
        "# c.radius, c.centre\n",
        "# c.area()\n",
        "# c.move(2,3)\n",
        "c=Circle(10,Point2D(5,9))\n",
        "other = Circle(11,Point2D(4,3))\n",
        "c.x , c.y\n",
        "c.intersects(other)"
      ],
      "metadata": {
        "pycharm": {
          "name": "#%%\n"
        },
        "id": "yAie8rLAkl7P",
        "colab": {
          "base_uri": "https://localhost:8080/"
        },
        "outputId": "8867ec2f-e4eb-4906-afb1-c7eebaab00ab"
      }
    },
    {
      "cell_type": "code",
      "source": [],
      "metadata": {
        "id": "nk3jrdVTv3VY"
      },
      "execution_count": null,
      "outputs": []
    },
    {
      "cell_type": "markdown",
      "source": [
        "## Problem:  Counting\n",
        "When conducting an experiment, it is common to count occurances.  For example\n",
        "\n",
        "* in a physics experiment, we might count the number of atomic collisions in which certain sub-atomic particles were produced\n",
        "* in biology, we might count the number of cells infected by a virus after a fixed time period\n",
        "* in a computational experiment, we might count the frequency with which clusters of a give size form\n",
        "\n",
        "To visualize such experimental results, we would generally plot a histogram, like this:\n"
      ],
      "metadata": {
        "collapsed": false,
        "id": "KgcBUGH4kl7Q"
      }
    },
    {
      "cell_type": "code",
      "source": [
        "# Experiment: Get the age distribution for Cap students\n",
        "n_cap_students = 11500\n",
        "\n",
        "# Simulate getting the age for one Cap student\n",
        "def get_age(student_id):\n",
        "    return int(random.normalvariate(mu=24, sigma=4))  # Normally distributed age with mean of 24 years\n",
        "\n",
        "# Run experiment to obtain the age for each student\n",
        "data = [get_age(id) for id in range(n_cap_students)]\n",
        "\n",
        "# Set the number of bins to the number of ages we found\n",
        "n_bins = len(set(data))\n",
        "\n",
        "fig, ax = plt.subplots()\n",
        "ax.set_title(\"Age distribution for Cap Students\")\n",
        "ax.set_xlabel('Age (years)')\n",
        "\n",
        "# plot a histogram of the data, divided into n \"equal width\" bins\n",
        "ax.hist(data, bins=n_bins)\n",
        "plt.plot()"
      ],
      "metadata": {
        "id": "HZSz8IftqJ72",
        "colab": {
          "base_uri": "https://localhost:8080/",
          "height": 312
        },
        "outputId": "9ed6ed20-2e78-47e3-fecf-3e2d5a17381b"
      },
      "execution_count": 12,
      "outputs": [
        {
          "output_type": "execute_result",
          "data": {
            "text/plain": [
              "[]"
            ]
          },
          "metadata": {},
          "execution_count": 12
        },
        {
          "output_type": "display_data",
          "data": {
            "text/plain": [
              "<Figure size 432x288 with 1 Axes>"
            ],
            "image/png": "[encoded data removed]"
          },
          "metadata": {
            "needs_background": "light"
          }
        }
      ]
    },
    {
      "cell_type": "markdown",
      "source": [
        "## Custom Histogram Class\n",
        "\n",
        "Define our own historgram class that serves as a \"wrapper\" for clunky pyplot ax.hist"
      ],
      "metadata": {
        "id": "naDVayQLkznK"
      }
    },
    {
      "cell_type": "code",
      "source": [
        "class Histogram:\n",
        "    \"\"\" A simple histogram with a nice API \"\"\"\n",
        "    def __init__(self, title, xlabel=None):\n",
        "        fig, ax = plt.subplots()\n",
        "        ax.set_title(title)\n",
        "        if xlabel:\n",
        "            ax.set_xlabel(xlabel)\n",
        "        ax.set_ylabel('Count')\n",
        "        self.ax = ax\n",
        "        self.fig = fig\n",
        "        self.counts = {}\n",
        "\n",
        "    def count(self, category):\n",
        "        self.counts[category] = self.counts.get(category, 0) + 1\n",
        "\n",
        "    def plot(self):\n",
        "        self.ax.bar(self.counts.keys(), self.counts.values())\n",
        "        plt.show()"
      ],
      "metadata": {
        "id": "Ai9qb3Bolw4h"
      },
      "execution_count": 13,
      "outputs": []
    },
    {
      "cell_type": "code",
      "execution_count": 14,
      "outputs": [
        {
          "output_type": "display_data",
          "data": {
            "text/plain": [
              "<Figure size 432x288 with 1 Axes>"
            ],
            "image/png": "[encoded data removed]"
          },
          "metadata": {
            "needs_background": "light"
          }
        }
      ],
      "source": [
        "hist = Histogram(title='Age Distribution for Cap Students', xlabel='Age (years)')\n",
        "for id in range(n_cap_students):\n",
        "    hist.count(get_age(id))\n",
        "hist.plot()"
      ],
      "metadata": {
        "pycharm": {
          "name": "#%%\n"
        },
        "id": "QxLQc9nokl7T",
        "outputId": "2243c09d-486f-46bb-9f80-7f34a093f1ee",
        "colab": {
          "base_uri": "https://localhost:8080/",
          "height": 295
        }
      }
    },
    {
      "cell_type": "code",
      "execution_count": 14,
      "outputs": [],
      "source": [],
      "metadata": {
        "pycharm": {
          "name": "#%%\n"
        },
        "id": "-y3O-TIYkl7T"
      }
    }
  ]
}