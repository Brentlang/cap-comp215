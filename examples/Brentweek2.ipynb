{
  "nbformat": 4,
  "nbformat_minor": 0,
  "metadata": {
    "colab": {
      "name": "week2.ipynb",
      "provenance": [],
      "include_colab_link": true
    },
    "kernelspec": {
      "name": "python3",
      "display_name": "Python 3"
    },
    "language_info": {
      "name": "python"
    }
  },
  "cells": [
    {
      "cell_type": "markdown",
      "metadata": {
        "id": "view-in-github",
        "colab_type": "text"
      },
      "source": [
        "<a href=\"https://colab.research.google.com/github/Brentlang/cap-comp215/blob/main/examples/Brentweek2.ipynb\" target=\"_parent\"><img src=\"https://colab.research.google.com/assets/colab-badge.svg\" alt=\"Open In Colab\"/></a>"
      ]
    },
    {
      "cell_type": "markdown",
      "source": [
        "# Sequence and Map data structures - Strings, Tuples, Lists, Dictionaries\n",
        "This is our week 2 examples notebook and will be available on Github from the powderflask/cap-comp215 repository.\n",
        "\n",
        "As usual, the first code block just imports the modules we will use."
      ],
      "metadata": {
        "id": "WBMC0GrjNRTM"
      }
    },
    {
      "cell_type": "code",
      "execution_count": 1,
      "metadata": {
        "id": "C1a6aDXAM0WM"
      },
      "outputs": [],
      "source": [
        "import datetime\n",
        "import matplotlib.pyplot as plt\n",
        "import  matplotlib.dates as mdates\n",
        "from pprint import pprint"
      ]
    },
    {
      "cell_type": "markdown",
      "source": [
        "## f-strings\n",
        "A `string` is a sequence of characters / symbols.\n",
        "This familiar data structure is quite powerful, and format-strings (f-strings) take it to the next level...."
      ],
      "metadata": {
        "collapsed": false,
        "pycharm": {
          "name": "#%% md\n"
        },
        "id": "pDUh7eG7JxAh"
      }
    },
    {
      "cell_type": "code",
      "execution_count": 2,
      "outputs": [
        {
          "output_type": "execute_result",
          "data": {
            "text/plain": [
              "'{today} is not special, but {the_answer} and {PI} are!'"
            ],
            "application/vnd.google.colaboratory.intrinsic+json": {
              "type": "string"
            }
          },
          "metadata": {},
          "execution_count": 2
        }
      ],
      "source": [
        "today = datetime.date.today()\n",
        "the_answer = 42\n",
        "PI = 3.1415926535\n",
        "\n",
        "'{today} is not special, but {the_answer} and {PI} are!'"
      ],
      "metadata": {
        "pycharm": {
          "name": "#%%\n"
        },
        "id": "_fxUvQNYJxAh",
        "outputId": "d390b268-f59b-4084-a8b1-6c174eea0671",
        "colab": {
          "base_uri": "https://localhost:8080/",
          "height": 35
        }
      }
    },
    {
      "cell_type": "markdown",
      "source": [
        "## List Comprehension\n",
        "Provides a compact syntax for two very common sequence-processing algorithms:  Map  and Filter\n",
        "\n",
        "Basic syntax:"
      ],
      "metadata": {
        "id": "k70NJ-JTNwYN"
      }
    },
    {
      "cell_type": "code",
      "source": [],
      "metadata": {
        "id": "HZSz8IftqJ72"
      },
      "execution_count": 2,
      "outputs": []
    },
    {
      "cell_type": "markdown",
      "source": [
        "### Map Algorithm\n",
        "Apply the same function to every item in another sequence (i.e., provide a \"mapping\" from the source sequence to the target"
      ],
      "metadata": {
        "collapsed": false,
        "pycharm": {
          "name": "#%% md\n"
        },
        "id": "sTjVcxe7JxAj"
      }
    },
    {
      "cell_type": "code",
      "execution_count": 3,
      "outputs": [
        {
          "output_type": "execute_result",
          "data": {
            "text/plain": [
              "[1, 4, 9, 16, 25, 36, 49, 64, 81, 100]"
            ]
          },
          "metadata": {},
          "execution_count": 3
        }
      ],
      "source": [
        "# Problem:  compute the first 10 natural squares\n",
        "\n",
        "[natural**2 for natural in range(1,11)]"
      ],
      "metadata": {
        "pycharm": {
          "name": "#%%\n"
        },
        "id": "wYmOQPFFJxAj",
        "outputId": "a9933526-97e6-48fa-beee-106a8aff6317",
        "colab": {
          "base_uri": "https://localhost:8080/"
        }
      }
    },
    {
      "cell_type": "markdown",
      "source": [
        "### Filter\n",
        "Select a sub-set of the elements from another sequence based on some criteria."
      ],
      "metadata": {
        "collapsed": false,
        "pycharm": {
          "name": "#%% md\n"
        },
        "id": "XxAUsiKCJxAk"
      }
    },
    {
      "cell_type": "code",
      "execution_count": 4,
      "outputs": [
        {
          "output_type": "execute_result",
          "data": {
            "text/plain": [
              "['o', 'e', 'i', 'u', 'a']"
            ]
          },
          "metadata": {},
          "execution_count": 4
        }
      ],
      "source": [
        "VOWELS = 'aeiou'\n",
        "text = '''\n",
        "Lorem ipsum dolor sit amet, consectetur adipiscing elit, sed do eiusmod tempor incididunt ut labore et dolore magna aliqua. Ut enim ad minim veniam, quis nostrud exercitation ullamco laboris nisi ut aliquip ex ea commodo consequat.\n",
        "'''\n",
        "# Problem:  create a string with just the vowels from the text, in order.\n",
        "\n",
        "vow=[i for i in text if i in VOWELS]\n",
        "''.join(vow)\n",
        "seen =set()\n",
        "def is_seen(c):\n",
        "  if c in seen:\n",
        "    return True\n",
        "  else:\n",
        "    seen.add(c)\n",
        "    return False\n",
        "#[v for v in vow if not is_seen(v)]\n",
        "unique =[]\n",
        "for v in vow:\n",
        "  if not is_seen(v):\n",
        "    unique.append(v)\n",
        "unique\n"
      ],
      "metadata": {
        "pycharm": {
          "name": "#%%\n"
        },
        "id": "kC9nHH7jJxAk",
        "outputId": "677a8e83-4ed6-4f91-f545-b2bd91e6bf28",
        "colab": {
          "base_uri": "https://localhost:8080/"
        }
      }
    },
    {
      "cell_type": "markdown",
      "source": [
        "## Data Wrangling with List Comprehension\n",
        "E-learn's Live Quiz module does track quiz scores for each student, but does not store them in the gradebook,\n",
        "and it reports on them in the most useless way.\n",
        "\n",
        "Let's do some \"data wrangling\" to make sense out of this mess!\n",
        "\n",
        "### The Problem: Unstructured Data!\n",
        "Notice it is just a single large string!  The real data set has 36 students, and I need to do this every week!"
      ],
      "metadata": {
        "collapsed": false,
        "pycharm": {
          "name": "#%% md\n"
        },
        "id": "uEScfVIPJxAl"
      }
    },
    {
      "cell_type": "code",
      "execution_count": 5,
      "outputs": [],
      "source": [
        "quiz_scores=\"\"\"\n",
        "  1.                 Ali Oop scored  7/ 8 = 87%\n",
        "\n",
        "\n",
        "  2.          Alison Ralison scored  8/ 8 = 100%\n",
        "\n",
        "\n",
        "  3.         Ambily Piturbed scored  8/ 8 = 100%\n",
        "\n",
        "\n",
        "  4.  Arshan Risnot Farquared scored  5/ 8 = 62%\n",
        "\n",
        "\n",
        "  5.       Ayushma Jugernaugh scored  5/ 8 = 62%\n",
        "\n",
        "\n",
        "  6.       Brayden Labaguette scored  7/ 8 = 87%\n",
        "\"\"\""
      ],
      "metadata": {
        "pycharm": {
          "name": "#%%\n"
        },
        "id": "bbkb3dNVJxAm"
      }
    },
    {
      "cell_type": "markdown",
      "source": [
        "### Goal\n",
        "Turn this into structured data: a list of 2-tuples, each student's full name and their integer score."
      ],
      "metadata": {
        "collapsed": false,
        "pycharm": {
          "name": "#%% md\n"
        },
        "id": "nliivkO3JxAm"
      }
    },
    {
      "cell_type": "code",
      "execution_count": 6,
      "outputs": [
        {
          "output_type": "execute_result",
          "data": {
            "text/plain": [
              "[('Ali Oop', 7),\n",
              " ('Alison Ralison', 8),\n",
              " ('Ambily Piturbed', 8),\n",
              " ('Arshan Risnot Farquared', 5),\n",
              " ('Ayushma Jugernaugh', 5),\n",
              " ('Brayden Labaguette', 7)]"
            ]
          },
          "metadata": {},
          "execution_count": 6
        }
      ],
      "source": [
        "lines = [line.split()[1:-3] for line in quiz_scores.split('\\n') if line]\n",
        "scores = [(' '.join(line[:-2]), int(line[-1][:-1])) for line in lines]\n",
        "scores"
      ],
      "metadata": {
        "pycharm": {
          "name": "#%%\n"
        },
        "id": "CbzI7iIUJxAn",
        "outputId": "605d963d-5d67-4ba8-ddee-613c2f18ccd8",
        "colab": {
          "base_uri": "https://localhost:8080/"
        }
      }
    },
    {
      "cell_type": "markdown",
      "source": [
        "## Records\n",
        "A *record* is a compound data value - a collection of simpler data values (fields) that all describe a single entity.\n",
        "\n",
        " * tuple\n",
        " * dictionary\n",
        " * object\n",
        "\n",
        "Problem: develop the data representation for a `student` in a student record system,\n",
        "where a `student` has a first and last name, student id, and date of birth"
      ],
      "metadata": {
        "collapsed": false,
        "id": "H0Y4w7mrJxAn"
      }
    },
    {
      "cell_type": "code",
      "source": [
        "# Tuple\n",
        "tuple_students= [\n",
        "('Bob', 'Squarepants', 123456, datetime.date(year=1994,month=9, day=3)),\n",
        "('Dora', 'explora', 12454456, datetime.date(year=2094,month=10, day=5))\n",
        "]\n",
        "\n",
        "\n",
        "# Dictionary\n",
        "students= [\n",
        "    {\n",
        "      'first':'bob',\n",
        "      'last':'squarepants',\n",
        "      'sn': 123456,\n",
        "      'dob':datetime.date(year=1994,month=9, day=3)\n",
        "    },\n",
        "    {'first':'Dora',\n",
        "     'last':'explora',\n",
        "     'sn': 12454456,\n",
        "     'dob':datetime.date(year=2094,month=10, day=5)\n",
        "    }\n",
        "]\n",
        "s=students[-1]\n",
        "s['dob']\n",
        "students = [\n",
        "    {'first':s[0], 'last':s[1], 'sn':s[2], 'dob':s[3]} for s in tuple_students\n",
        "]\n",
        "students\n",
        "# Object\n",
        "\n",
        "from dataclasses import dataclass\n",
        "\n",
        "@dataclass\n",
        "class Student:\n",
        "  first: str\n",
        "  last: str\n",
        "  sn: int\n",
        "  dob: datetime.date\n",
        "  def full_name(self):\n",
        "    return f'{self.first} {self.last}'\n",
        "\n",
        "students = [\n",
        "    Student('Bob','Squarepant', 123456, datetime.date(year=1994,month=9, day=3)),\n",
        "    Student('Dora', 'explora', 12454456, datetime.date(year=2094,month=10, day=5))\n",
        "]\n",
        "\n",
        "dora= students[-1]\n",
        "dora.dob\n",
        "\n",
        "dora = [ s for s in students if s.first =='Dora'][0]\n",
        "dora.dob\n",
        "\n",
        "dora.full_name()\n",
        "#equivalent\n",
        "Student.full_name(dora)\n",
        "type(dora)"
      ],
      "metadata": {
        "id": "Ai9qb3Bolw4h",
        "outputId": "d14540d6-7e83-415a-b4f2-2c8343e07aa9",
        "colab": {
          "base_uri": "https://localhost:8080/"
        }
      },
      "execution_count": 9,
      "outputs": [
        {
          "output_type": "execute_result",
          "data": {
            "text/plain": [
              "__main__.Student"
            ]
          },
          "metadata": {},
          "execution_count": 9
        }
      ]
    },
    {
      "cell_type": "code",
      "execution_count": 8,
      "outputs": [
        {
          "output_type": "execute_result",
          "data": {
            "text/plain": [
              "int"
            ]
          },
          "metadata": {},
          "execution_count": 8
        }
      ],
      "source": [
        "#bool float and int are atomic types\n",
        "\n"
      ],
      "metadata": {
        "pycharm": {
          "name": "#%%\n"
        },
        "id": "V443VIXxJxAo",
        "outputId": "3d82a3bc-b155-4b93-b5fe-202f9c60ad0c",
        "colab": {
          "base_uri": "https://localhost:8080/"
        }
      }
    }
  ]
}